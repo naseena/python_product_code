{
 "cells": [
  {
   "cell_type": "code",
   "execution_count": 1,
   "id": "ad252757",
   "metadata": {},
   "outputs": [],
   "source": [
    "import pandas as pd"
   ]
  },
  {
   "cell_type": "code",
   "execution_count": 2,
   "id": "b84c7c5a",
   "metadata": {},
   "outputs": [],
   "source": [
    "df=pd.read_excel(r\"Downloads\\insurence_file.xlsx\",sheet_name=\"Sheet2\")"
   ]
  },
  {
   "cell_type": "code",
   "execution_count": 3,
   "id": "fc0be24e",
   "metadata": {},
   "outputs": [
    {
     "data": {
      "text/html": [
       "<div>\n",
       "<style scoped>\n",
       "    .dataframe tbody tr th:only-of-type {\n",
       "        vertical-align: middle;\n",
       "    }\n",
       "\n",
       "    .dataframe tbody tr th {\n",
       "        vertical-align: top;\n",
       "    }\n",
       "\n",
       "    .dataframe thead th {\n",
       "        text-align: right;\n",
       "    }\n",
       "</style>\n",
       "<table border=\"1\" class=\"dataframe\">\n",
       "  <thead>\n",
       "    <tr style=\"text-align: right;\">\n",
       "      <th></th>\n",
       "      <th>NAME</th>\n",
       "      <th>LOCATION</th>\n",
       "      <th>ACCOUNT_NUMBER</th>\n",
       "      <th>AGE</th>\n",
       "    </tr>\n",
       "  </thead>\n",
       "  <tbody>\n",
       "    <tr>\n",
       "      <th>0</th>\n",
       "      <td>RAVI</td>\n",
       "      <td>GUDURU</td>\n",
       "      <td>12345</td>\n",
       "      <td>25</td>\n",
       "    </tr>\n",
       "    <tr>\n",
       "      <th>1</th>\n",
       "      <td>RAJESH</td>\n",
       "      <td>MTM</td>\n",
       "      <td>78934</td>\n",
       "      <td>26</td>\n",
       "    </tr>\n",
       "    <tr>\n",
       "      <th>2</th>\n",
       "      <td>RAHEEM</td>\n",
       "      <td>BZA</td>\n",
       "      <td>34567</td>\n",
       "      <td>30</td>\n",
       "    </tr>\n",
       "    <tr>\n",
       "      <th>3</th>\n",
       "      <td>SANDY</td>\n",
       "      <td>VUYUR</td>\n",
       "      <td>98765</td>\n",
       "      <td>19</td>\n",
       "    </tr>\n",
       "    <tr>\n",
       "      <th>4</th>\n",
       "      <td>AKHEEL</td>\n",
       "      <td>PAMAR</td>\n",
       "      <td>11234</td>\n",
       "      <td>34</td>\n",
       "    </tr>\n",
       "    <tr>\n",
       "      <th>5</th>\n",
       "      <td>PREM</td>\n",
       "      <td>PEDANA</td>\n",
       "      <td>44556</td>\n",
       "      <td>42</td>\n",
       "    </tr>\n",
       "    <tr>\n",
       "      <th>6</th>\n",
       "      <td>MALATHI</td>\n",
       "      <td>MTM</td>\n",
       "      <td>88776</td>\n",
       "      <td>19</td>\n",
       "    </tr>\n",
       "    <tr>\n",
       "      <th>7</th>\n",
       "      <td>LAKSHMI</td>\n",
       "      <td>GUDURU</td>\n",
       "      <td>55432</td>\n",
       "      <td>27</td>\n",
       "    </tr>\n",
       "    <tr>\n",
       "      <th>8</th>\n",
       "      <td>TULASI</td>\n",
       "      <td>BZA</td>\n",
       "      <td>67895</td>\n",
       "      <td>32</td>\n",
       "    </tr>\n",
       "    <tr>\n",
       "      <th>9</th>\n",
       "      <td>HEMNTH</td>\n",
       "      <td>PEDANA</td>\n",
       "      <td>14567</td>\n",
       "      <td>28</td>\n",
       "    </tr>\n",
       "  </tbody>\n",
       "</table>\n",
       "</div>"
      ],
      "text/plain": [
       "      NAME LOCATION  ACCOUNT_NUMBER  AGE\n",
       "0     RAVI   GUDURU           12345   25\n",
       "1   RAJESH      MTM           78934   26\n",
       "2   RAHEEM      BZA           34567   30\n",
       "3    SANDY    VUYUR           98765   19\n",
       "4   AKHEEL    PAMAR           11234   34\n",
       "5     PREM   PEDANA           44556   42\n",
       "6  MALATHI      MTM           88776   19\n",
       "7  LAKSHMI   GUDURU           55432   27\n",
       "8   TULASI      BZA           67895   32\n",
       "9   HEMNTH   PEDANA           14567   28"
      ]
     },
     "execution_count": 3,
     "metadata": {},
     "output_type": "execute_result"
    }
   ],
   "source": [
    "df"
   ]
  },
  {
   "cell_type": "code",
   "execution_count": null,
   "id": "eef53176",
   "metadata": {},
   "outputs": [],
   "source": [
    "##################  basic check in dataframe #####################"
   ]
  },
  {
   "cell_type": "code",
   "execution_count": 4,
   "id": "383ec390",
   "metadata": {},
   "outputs": [
    {
     "data": {
      "text/html": [
       "<div>\n",
       "<style scoped>\n",
       "    .dataframe tbody tr th:only-of-type {\n",
       "        vertical-align: middle;\n",
       "    }\n",
       "\n",
       "    .dataframe tbody tr th {\n",
       "        vertical-align: top;\n",
       "    }\n",
       "\n",
       "    .dataframe thead th {\n",
       "        text-align: right;\n",
       "    }\n",
       "</style>\n",
       "<table border=\"1\" class=\"dataframe\">\n",
       "  <thead>\n",
       "    <tr style=\"text-align: right;\">\n",
       "      <th></th>\n",
       "      <th>NAME</th>\n",
       "      <th>LOCATION</th>\n",
       "      <th>ACCOUNT_NUMBER</th>\n",
       "      <th>AGE</th>\n",
       "    </tr>\n",
       "  </thead>\n",
       "  <tbody>\n",
       "    <tr>\n",
       "      <th>0</th>\n",
       "      <td>RAVI</td>\n",
       "      <td>GUDURU</td>\n",
       "      <td>12345</td>\n",
       "      <td>25</td>\n",
       "    </tr>\n",
       "    <tr>\n",
       "      <th>1</th>\n",
       "      <td>RAJESH</td>\n",
       "      <td>MTM</td>\n",
       "      <td>78934</td>\n",
       "      <td>26</td>\n",
       "    </tr>\n",
       "    <tr>\n",
       "      <th>2</th>\n",
       "      <td>RAHEEM</td>\n",
       "      <td>BZA</td>\n",
       "      <td>34567</td>\n",
       "      <td>30</td>\n",
       "    </tr>\n",
       "    <tr>\n",
       "      <th>3</th>\n",
       "      <td>SANDY</td>\n",
       "      <td>VUYUR</td>\n",
       "      <td>98765</td>\n",
       "      <td>19</td>\n",
       "    </tr>\n",
       "    <tr>\n",
       "      <th>4</th>\n",
       "      <td>AKHEEL</td>\n",
       "      <td>PAMAR</td>\n",
       "      <td>11234</td>\n",
       "      <td>34</td>\n",
       "    </tr>\n",
       "  </tbody>\n",
       "</table>\n",
       "</div>"
      ],
      "text/plain": [
       "     NAME LOCATION  ACCOUNT_NUMBER  AGE\n",
       "0    RAVI   GUDURU           12345   25\n",
       "1  RAJESH      MTM           78934   26\n",
       "2  RAHEEM      BZA           34567   30\n",
       "3   SANDY    VUYUR           98765   19\n",
       "4  AKHEEL    PAMAR           11234   34"
      ]
     },
     "execution_count": 4,
     "metadata": {},
     "output_type": "execute_result"
    }
   ],
   "source": [
    "df.head()"
   ]
  },
  {
   "cell_type": "code",
   "execution_count": 5,
   "id": "3d3ca437",
   "metadata": {},
   "outputs": [
    {
     "data": {
      "text/html": [
       "<div>\n",
       "<style scoped>\n",
       "    .dataframe tbody tr th:only-of-type {\n",
       "        vertical-align: middle;\n",
       "    }\n",
       "\n",
       "    .dataframe tbody tr th {\n",
       "        vertical-align: top;\n",
       "    }\n",
       "\n",
       "    .dataframe thead th {\n",
       "        text-align: right;\n",
       "    }\n",
       "</style>\n",
       "<table border=\"1\" class=\"dataframe\">\n",
       "  <thead>\n",
       "    <tr style=\"text-align: right;\">\n",
       "      <th></th>\n",
       "      <th>NAME</th>\n",
       "      <th>LOCATION</th>\n",
       "      <th>ACCOUNT_NUMBER</th>\n",
       "      <th>AGE</th>\n",
       "    </tr>\n",
       "  </thead>\n",
       "  <tbody>\n",
       "    <tr>\n",
       "      <th>5</th>\n",
       "      <td>PREM</td>\n",
       "      <td>PEDANA</td>\n",
       "      <td>44556</td>\n",
       "      <td>42</td>\n",
       "    </tr>\n",
       "    <tr>\n",
       "      <th>6</th>\n",
       "      <td>MALATHI</td>\n",
       "      <td>MTM</td>\n",
       "      <td>88776</td>\n",
       "      <td>19</td>\n",
       "    </tr>\n",
       "    <tr>\n",
       "      <th>7</th>\n",
       "      <td>LAKSHMI</td>\n",
       "      <td>GUDURU</td>\n",
       "      <td>55432</td>\n",
       "      <td>27</td>\n",
       "    </tr>\n",
       "    <tr>\n",
       "      <th>8</th>\n",
       "      <td>TULASI</td>\n",
       "      <td>BZA</td>\n",
       "      <td>67895</td>\n",
       "      <td>32</td>\n",
       "    </tr>\n",
       "    <tr>\n",
       "      <th>9</th>\n",
       "      <td>HEMNTH</td>\n",
       "      <td>PEDANA</td>\n",
       "      <td>14567</td>\n",
       "      <td>28</td>\n",
       "    </tr>\n",
       "  </tbody>\n",
       "</table>\n",
       "</div>"
      ],
      "text/plain": [
       "      NAME LOCATION  ACCOUNT_NUMBER  AGE\n",
       "5     PREM   PEDANA           44556   42\n",
       "6  MALATHI      MTM           88776   19\n",
       "7  LAKSHMI   GUDURU           55432   27\n",
       "8   TULASI      BZA           67895   32\n",
       "9   HEMNTH   PEDANA           14567   28"
      ]
     },
     "execution_count": 5,
     "metadata": {},
     "output_type": "execute_result"
    }
   ],
   "source": [
    "df.tail()"
   ]
  },
  {
   "cell_type": "code",
   "execution_count": 6,
   "id": "c204b832",
   "metadata": {},
   "outputs": [
    {
     "data": {
      "text/plain": [
       "(10, 4)"
      ]
     },
     "execution_count": 6,
     "metadata": {},
     "output_type": "execute_result"
    }
   ],
   "source": [
    "df.shape"
   ]
  },
  {
   "cell_type": "code",
   "execution_count": 7,
   "id": "92d8d0dd",
   "metadata": {},
   "outputs": [
    {
     "data": {
      "text/plain": [
       "NAME              object\n",
       "LOCATION          object\n",
       "ACCOUNT_NUMBER     int64\n",
       "AGE                int64\n",
       "dtype: object"
      ]
     },
     "execution_count": 7,
     "metadata": {},
     "output_type": "execute_result"
    }
   ],
   "source": [
    "df.dtypes"
   ]
  },
  {
   "cell_type": "code",
   "execution_count": 8,
   "id": "29ddcfe0",
   "metadata": {},
   "outputs": [
    {
     "data": {
      "text/plain": [
       "<bound method DataFrame.info of       NAME LOCATION  ACCOUNT_NUMBER  AGE\n",
       "0     RAVI   GUDURU           12345   25\n",
       "1   RAJESH      MTM           78934   26\n",
       "2   RAHEEM      BZA           34567   30\n",
       "3    SANDY    VUYUR           98765   19\n",
       "4   AKHEEL    PAMAR           11234   34\n",
       "5     PREM   PEDANA           44556   42\n",
       "6  MALATHI      MTM           88776   19\n",
       "7  LAKSHMI   GUDURU           55432   27\n",
       "8   TULASI      BZA           67895   32\n",
       "9   HEMNTH   PEDANA           14567   28>"
      ]
     },
     "execution_count": 8,
     "metadata": {},
     "output_type": "execute_result"
    }
   ],
   "source": [
    "df.info"
   ]
  },
  {
   "cell_type": "code",
   "execution_count": 9,
   "id": "575b96ee",
   "metadata": {},
   "outputs": [
    {
     "data": {
      "text/plain": [
       "Index(['NAME', 'LOCATION', 'ACCOUNT_NUMBER', 'AGE'], dtype='object')"
      ]
     },
     "execution_count": 9,
     "metadata": {},
     "output_type": "execute_result"
    }
   ],
   "source": [
    "df.columns"
   ]
  },
  {
   "cell_type": "code",
   "execution_count": null,
   "id": "107ac37c",
   "metadata": {},
   "outputs": [],
   "source": [
    "###############   filters #########################"
   ]
  },
  {
   "cell_type": "code",
   "execution_count": null,
   "id": "dc7b5b9c",
   "metadata": {},
   "outputs": [],
   "source": [
    "######################################## columns filter ######################################"
   ]
  },
  {
   "cell_type": "code",
   "execution_count": 20,
   "id": "df114b00",
   "metadata": {},
   "outputs": [
    {
     "data": {
      "text/plain": [
       "0       RAVI\n",
       "1     RAJESH\n",
       "2     RAHEEM\n",
       "3      SANDY\n",
       "4     AKHEEL\n",
       "5       PREM\n",
       "6    MALATHI\n",
       "7    LAKSHMI\n",
       "8     TULASI\n",
       "9     HEMNTH\n",
       "Name: NAME, dtype: object"
      ]
     },
     "execution_count": 20,
     "metadata": {},
     "output_type": "execute_result"
    }
   ],
   "source": [
    "df[\"NAME\"]"
   ]
  },
  {
   "cell_type": "code",
   "execution_count": 19,
   "id": "d1993e18",
   "metadata": {},
   "outputs": [
    {
     "data": {
      "text/plain": [
       "(0       RAVI\n",
       " 1     RAJESH\n",
       " 2     RAHEEM\n",
       " 3      SANDY\n",
       " 4     AKHEEL\n",
       " 5       PREM\n",
       " 6    MALATHI\n",
       " 7    LAKSHMI\n",
       " 8     TULASI\n",
       " 9     HEMNTH\n",
       " Name: NAME, dtype: object,\n",
       " 0    GUDURU\n",
       " 1       MTM\n",
       " 2       BZA\n",
       " 3     VUYUR\n",
       " 4     PAMAR\n",
       " 5    PEDANA\n",
       " 6       MTM\n",
       " 7    GUDURU\n",
       " 8       BZA\n",
       " 9    PEDANA\n",
       " Name: LOCATION, dtype: object,\n",
       " 0    12345\n",
       " 1    78934\n",
       " 2    34567\n",
       " 3    98765\n",
       " 4    11234\n",
       " 5    44556\n",
       " 6    88776\n",
       " 7    55432\n",
       " 8    67895\n",
       " 9    14567\n",
       " Name: ACCOUNT_NUMBER, dtype: int64,\n",
       " 0    25\n",
       " 1    26\n",
       " 2    30\n",
       " 3    19\n",
       " 4    34\n",
       " 5    42\n",
       " 6    19\n",
       " 7    27\n",
       " 8    32\n",
       " 9    28\n",
       " Name: AGE, dtype: int64)"
      ]
     },
     "execution_count": 19,
     "metadata": {},
     "output_type": "execute_result"
    }
   ],
   "source": [
    "df[\"NAME\"],df[\"LOCATION\"],df[\"ACCOUNT_NUMBER\"],df[\"AGE\"]"
   ]
  },
  {
   "cell_type": "code",
   "execution_count": 10,
   "id": "5124514f",
   "metadata": {},
   "outputs": [
    {
     "data": {
      "text/plain": [
       "0       RAVI\n",
       "1     RAJESH\n",
       "2     RAHEEM\n",
       "3      SANDY\n",
       "4     AKHEEL\n",
       "5       PREM\n",
       "6    MALATHI\n",
       "7    LAKSHMI\n",
       "8     TULASI\n",
       "9     HEMNTH\n",
       "Name: NAME, dtype: object"
      ]
     },
     "execution_count": 10,
     "metadata": {},
     "output_type": "execute_result"
    }
   ],
   "source": [
    "df.NAME"
   ]
  },
  {
   "cell_type": "code",
   "execution_count": 17,
   "id": "7bdc92ec",
   "metadata": {},
   "outputs": [
    {
     "data": {
      "text/plain": [
       "(0       RAVI\n",
       " 1     RAJESH\n",
       " 2     RAHEEM\n",
       " 3      SANDY\n",
       " 4     AKHEEL\n",
       " 5       PREM\n",
       " 6    MALATHI\n",
       " 7    LAKSHMI\n",
       " 8     TULASI\n",
       " 9     HEMNTH\n",
       " Name: NAME, dtype: object,\n",
       " 0    GUDURU\n",
       " 1       MTM\n",
       " 2       BZA\n",
       " 3     VUYUR\n",
       " 4     PAMAR\n",
       " 5    PEDANA\n",
       " 6       MTM\n",
       " 7    GUDURU\n",
       " 8       BZA\n",
       " 9    PEDANA\n",
       " Name: LOCATION, dtype: object,\n",
       " 0    12345\n",
       " 1    78934\n",
       " 2    34567\n",
       " 3    98765\n",
       " 4    11234\n",
       " 5    44556\n",
       " 6    88776\n",
       " 7    55432\n",
       " 8    67895\n",
       " 9    14567\n",
       " Name: ACCOUNT_NUMBER, dtype: int64,\n",
       " 0    25\n",
       " 1    26\n",
       " 2    30\n",
       " 3    19\n",
       " 4    34\n",
       " 5    42\n",
       " 6    19\n",
       " 7    27\n",
       " 8    32\n",
       " 9    28\n",
       " Name: AGE, dtype: int64)"
      ]
     },
     "execution_count": 17,
     "metadata": {},
     "output_type": "execute_result"
    }
   ],
   "source": [
    "df.NAME,df.LOCATION,df.ACCOUNT_NUMBER,df.AGE"
   ]
  },
  {
   "cell_type": "code",
   "execution_count": 21,
   "id": "f4c81e2f",
   "metadata": {},
   "outputs": [
    {
     "data": {
      "text/html": [
       "<div>\n",
       "<style scoped>\n",
       "    .dataframe tbody tr th:only-of-type {\n",
       "        vertical-align: middle;\n",
       "    }\n",
       "\n",
       "    .dataframe tbody tr th {\n",
       "        vertical-align: top;\n",
       "    }\n",
       "\n",
       "    .dataframe thead th {\n",
       "        text-align: right;\n",
       "    }\n",
       "</style>\n",
       "<table border=\"1\" class=\"dataframe\">\n",
       "  <thead>\n",
       "    <tr style=\"text-align: right;\">\n",
       "      <th></th>\n",
       "      <th>NAME</th>\n",
       "      <th>LOCATION</th>\n",
       "      <th>ACCOUNT_NUMBER</th>\n",
       "      <th>AGE</th>\n",
       "    </tr>\n",
       "  </thead>\n",
       "  <tbody>\n",
       "    <tr>\n",
       "      <th>0</th>\n",
       "      <td>RAVI</td>\n",
       "      <td>GUDURU</td>\n",
       "      <td>12345</td>\n",
       "      <td>25</td>\n",
       "    </tr>\n",
       "    <tr>\n",
       "      <th>1</th>\n",
       "      <td>RAJESH</td>\n",
       "      <td>MTM</td>\n",
       "      <td>78934</td>\n",
       "      <td>26</td>\n",
       "    </tr>\n",
       "    <tr>\n",
       "      <th>2</th>\n",
       "      <td>RAHEEM</td>\n",
       "      <td>BZA</td>\n",
       "      <td>34567</td>\n",
       "      <td>30</td>\n",
       "    </tr>\n",
       "    <tr>\n",
       "      <th>3</th>\n",
       "      <td>SANDY</td>\n",
       "      <td>VUYUR</td>\n",
       "      <td>98765</td>\n",
       "      <td>19</td>\n",
       "    </tr>\n",
       "    <tr>\n",
       "      <th>4</th>\n",
       "      <td>AKHEEL</td>\n",
       "      <td>PAMAR</td>\n",
       "      <td>11234</td>\n",
       "      <td>34</td>\n",
       "    </tr>\n",
       "    <tr>\n",
       "      <th>5</th>\n",
       "      <td>PREM</td>\n",
       "      <td>PEDANA</td>\n",
       "      <td>44556</td>\n",
       "      <td>42</td>\n",
       "    </tr>\n",
       "    <tr>\n",
       "      <th>6</th>\n",
       "      <td>MALATHI</td>\n",
       "      <td>MTM</td>\n",
       "      <td>88776</td>\n",
       "      <td>19</td>\n",
       "    </tr>\n",
       "    <tr>\n",
       "      <th>7</th>\n",
       "      <td>LAKSHMI</td>\n",
       "      <td>GUDURU</td>\n",
       "      <td>55432</td>\n",
       "      <td>27</td>\n",
       "    </tr>\n",
       "    <tr>\n",
       "      <th>8</th>\n",
       "      <td>TULASI</td>\n",
       "      <td>BZA</td>\n",
       "      <td>67895</td>\n",
       "      <td>32</td>\n",
       "    </tr>\n",
       "    <tr>\n",
       "      <th>9</th>\n",
       "      <td>HEMNTH</td>\n",
       "      <td>PEDANA</td>\n",
       "      <td>14567</td>\n",
       "      <td>28</td>\n",
       "    </tr>\n",
       "  </tbody>\n",
       "</table>\n",
       "</div>"
      ],
      "text/plain": [
       "      NAME LOCATION  ACCOUNT_NUMBER  AGE\n",
       "0     RAVI   GUDURU           12345   25\n",
       "1   RAJESH      MTM           78934   26\n",
       "2   RAHEEM      BZA           34567   30\n",
       "3    SANDY    VUYUR           98765   19\n",
       "4   AKHEEL    PAMAR           11234   34\n",
       "5     PREM   PEDANA           44556   42\n",
       "6  MALATHI      MTM           88776   19\n",
       "7  LAKSHMI   GUDURU           55432   27\n",
       "8   TULASI      BZA           67895   32\n",
       "9   HEMNTH   PEDANA           14567   28"
      ]
     },
     "execution_count": 21,
     "metadata": {},
     "output_type": "execute_result"
    }
   ],
   "source": [
    "df[['NAME', 'LOCATION', 'ACCOUNT_NUMBER', 'AGE']]"
   ]
  },
  {
   "cell_type": "code",
   "execution_count": 36,
   "id": "782c9744",
   "metadata": {},
   "outputs": [
    {
     "data": {
      "text/html": [
       "<div>\n",
       "<style scoped>\n",
       "    .dataframe tbody tr th:only-of-type {\n",
       "        vertical-align: middle;\n",
       "    }\n",
       "\n",
       "    .dataframe tbody tr th {\n",
       "        vertical-align: top;\n",
       "    }\n",
       "\n",
       "    .dataframe thead th {\n",
       "        text-align: right;\n",
       "    }\n",
       "</style>\n",
       "<table border=\"1\" class=\"dataframe\">\n",
       "  <thead>\n",
       "    <tr style=\"text-align: right;\">\n",
       "      <th></th>\n",
       "      <th>NAME</th>\n",
       "    </tr>\n",
       "  </thead>\n",
       "  <tbody>\n",
       "    <tr>\n",
       "      <th>0</th>\n",
       "      <td>RAVI</td>\n",
       "    </tr>\n",
       "    <tr>\n",
       "      <th>1</th>\n",
       "      <td>RAJESH</td>\n",
       "    </tr>\n",
       "    <tr>\n",
       "      <th>2</th>\n",
       "      <td>RAHEEM</td>\n",
       "    </tr>\n",
       "    <tr>\n",
       "      <th>3</th>\n",
       "      <td>SANDY</td>\n",
       "    </tr>\n",
       "    <tr>\n",
       "      <th>4</th>\n",
       "      <td>AKHEEL</td>\n",
       "    </tr>\n",
       "    <tr>\n",
       "      <th>5</th>\n",
       "      <td>PREM</td>\n",
       "    </tr>\n",
       "    <tr>\n",
       "      <th>6</th>\n",
       "      <td>MALATHI</td>\n",
       "    </tr>\n",
       "    <tr>\n",
       "      <th>7</th>\n",
       "      <td>LAKSHMI</td>\n",
       "    </tr>\n",
       "    <tr>\n",
       "      <th>8</th>\n",
       "      <td>TULASI</td>\n",
       "    </tr>\n",
       "    <tr>\n",
       "      <th>9</th>\n",
       "      <td>HEMNTH</td>\n",
       "    </tr>\n",
       "  </tbody>\n",
       "</table>\n",
       "</div>"
      ],
      "text/plain": [
       "      NAME\n",
       "0     RAVI\n",
       "1   RAJESH\n",
       "2   RAHEEM\n",
       "3    SANDY\n",
       "4   AKHEEL\n",
       "5     PREM\n",
       "6  MALATHI\n",
       "7  LAKSHMI\n",
       "8   TULASI\n",
       "9   HEMNTH"
      ]
     },
     "execution_count": 36,
     "metadata": {},
     "output_type": "execute_result"
    }
   ],
   "source": [
    "df.filter([\"NAME\"])"
   ]
  },
  {
   "cell_type": "code",
   "execution_count": 37,
   "id": "b146b852",
   "metadata": {},
   "outputs": [
    {
     "data": {
      "text/html": [
       "<div>\n",
       "<style scoped>\n",
       "    .dataframe tbody tr th:only-of-type {\n",
       "        vertical-align: middle;\n",
       "    }\n",
       "\n",
       "    .dataframe tbody tr th {\n",
       "        vertical-align: top;\n",
       "    }\n",
       "\n",
       "    .dataframe thead th {\n",
       "        text-align: right;\n",
       "    }\n",
       "</style>\n",
       "<table border=\"1\" class=\"dataframe\">\n",
       "  <thead>\n",
       "    <tr style=\"text-align: right;\">\n",
       "      <th></th>\n",
       "      <th>NAME</th>\n",
       "      <th>LOCATION</th>\n",
       "      <th>ACCOUNT_NUMBER</th>\n",
       "      <th>AGE</th>\n",
       "    </tr>\n",
       "  </thead>\n",
       "  <tbody>\n",
       "    <tr>\n",
       "      <th>0</th>\n",
       "      <td>RAVI</td>\n",
       "      <td>GUDURU</td>\n",
       "      <td>12345</td>\n",
       "      <td>25</td>\n",
       "    </tr>\n",
       "    <tr>\n",
       "      <th>1</th>\n",
       "      <td>RAJESH</td>\n",
       "      <td>MTM</td>\n",
       "      <td>78934</td>\n",
       "      <td>26</td>\n",
       "    </tr>\n",
       "    <tr>\n",
       "      <th>2</th>\n",
       "      <td>RAHEEM</td>\n",
       "      <td>BZA</td>\n",
       "      <td>34567</td>\n",
       "      <td>30</td>\n",
       "    </tr>\n",
       "    <tr>\n",
       "      <th>3</th>\n",
       "      <td>SANDY</td>\n",
       "      <td>VUYUR</td>\n",
       "      <td>98765</td>\n",
       "      <td>19</td>\n",
       "    </tr>\n",
       "    <tr>\n",
       "      <th>4</th>\n",
       "      <td>AKHEEL</td>\n",
       "      <td>PAMAR</td>\n",
       "      <td>11234</td>\n",
       "      <td>34</td>\n",
       "    </tr>\n",
       "    <tr>\n",
       "      <th>5</th>\n",
       "      <td>PREM</td>\n",
       "      <td>PEDANA</td>\n",
       "      <td>44556</td>\n",
       "      <td>42</td>\n",
       "    </tr>\n",
       "    <tr>\n",
       "      <th>6</th>\n",
       "      <td>MALATHI</td>\n",
       "      <td>MTM</td>\n",
       "      <td>88776</td>\n",
       "      <td>19</td>\n",
       "    </tr>\n",
       "    <tr>\n",
       "      <th>7</th>\n",
       "      <td>LAKSHMI</td>\n",
       "      <td>GUDURU</td>\n",
       "      <td>55432</td>\n",
       "      <td>27</td>\n",
       "    </tr>\n",
       "    <tr>\n",
       "      <th>8</th>\n",
       "      <td>TULASI</td>\n",
       "      <td>BZA</td>\n",
       "      <td>67895</td>\n",
       "      <td>32</td>\n",
       "    </tr>\n",
       "    <tr>\n",
       "      <th>9</th>\n",
       "      <td>HEMNTH</td>\n",
       "      <td>PEDANA</td>\n",
       "      <td>14567</td>\n",
       "      <td>28</td>\n",
       "    </tr>\n",
       "  </tbody>\n",
       "</table>\n",
       "</div>"
      ],
      "text/plain": [
       "      NAME LOCATION  ACCOUNT_NUMBER  AGE\n",
       "0     RAVI   GUDURU           12345   25\n",
       "1   RAJESH      MTM           78934   26\n",
       "2   RAHEEM      BZA           34567   30\n",
       "3    SANDY    VUYUR           98765   19\n",
       "4   AKHEEL    PAMAR           11234   34\n",
       "5     PREM   PEDANA           44556   42\n",
       "6  MALATHI      MTM           88776   19\n",
       "7  LAKSHMI   GUDURU           55432   27\n",
       "8   TULASI      BZA           67895   32\n",
       "9   HEMNTH   PEDANA           14567   28"
      ]
     },
     "execution_count": 37,
     "metadata": {},
     "output_type": "execute_result"
    }
   ],
   "source": [
    "df.filter(['NAME', 'LOCATION', 'ACCOUNT_NUMBER', 'AGE'])"
   ]
  },
  {
   "cell_type": "code",
   "execution_count": null,
   "id": "88b52d71",
   "metadata": {},
   "outputs": [],
   "source": [
    "########################### column with value filter #########################"
   ]
  },
  {
   "cell_type": "code",
   "execution_count": 39,
   "id": "c5786489",
   "metadata": {},
   "outputs": [
    {
     "data": {
      "text/html": [
       "<div>\n",
       "<style scoped>\n",
       "    .dataframe tbody tr th:only-of-type {\n",
       "        vertical-align: middle;\n",
       "    }\n",
       "\n",
       "    .dataframe tbody tr th {\n",
       "        vertical-align: top;\n",
       "    }\n",
       "\n",
       "    .dataframe thead th {\n",
       "        text-align: right;\n",
       "    }\n",
       "</style>\n",
       "<table border=\"1\" class=\"dataframe\">\n",
       "  <thead>\n",
       "    <tr style=\"text-align: right;\">\n",
       "      <th></th>\n",
       "      <th>NAME</th>\n",
       "      <th>LOCATION</th>\n",
       "      <th>ACCOUNT_NUMBER</th>\n",
       "      <th>AGE</th>\n",
       "    </tr>\n",
       "  </thead>\n",
       "  <tbody>\n",
       "    <tr>\n",
       "      <th>3</th>\n",
       "      <td>SANDY</td>\n",
       "      <td>VUYUR</td>\n",
       "      <td>98765</td>\n",
       "      <td>19</td>\n",
       "    </tr>\n",
       "  </tbody>\n",
       "</table>\n",
       "</div>"
      ],
      "text/plain": [
       "    NAME LOCATION  ACCOUNT_NUMBER  AGE\n",
       "3  SANDY    VUYUR           98765   19"
      ]
     },
     "execution_count": 39,
     "metadata": {},
     "output_type": "execute_result"
    }
   ],
   "source": [
    "df[df[\"NAME\"]==\"SANDY\"]"
   ]
  },
  {
   "cell_type": "code",
   "execution_count": 40,
   "id": "f0bc6ad5",
   "metadata": {},
   "outputs": [
    {
     "data": {
      "text/plain": [
       "(    NAME LOCATION  ACCOUNT_NUMBER  AGE\n",
       " 3  SANDY    VUYUR           98765   19,\n",
       "      NAME LOCATION  ACCOUNT_NUMBER  AGE\n",
       " 9  HEMNTH   PEDANA           14567   28,\n",
       "    NAME LOCATION  ACCOUNT_NUMBER  AGE\n",
       " 5  PREM   PEDANA           44556   42)"
      ]
     },
     "execution_count": 40,
     "metadata": {},
     "output_type": "execute_result"
    }
   ],
   "source": [
    "df[df[\"NAME\"]==\"SANDY\"],df[df[\"NAME\"]==\"HEMNTH\"],df[df[\"NAME\"]==\"PREM\"]"
   ]
  },
  {
   "cell_type": "code",
   "execution_count": 41,
   "id": "d1915143",
   "metadata": {},
   "outputs": [
    {
     "data": {
      "text/html": [
       "<div>\n",
       "<style scoped>\n",
       "    .dataframe tbody tr th:only-of-type {\n",
       "        vertical-align: middle;\n",
       "    }\n",
       "\n",
       "    .dataframe tbody tr th {\n",
       "        vertical-align: top;\n",
       "    }\n",
       "\n",
       "    .dataframe thead th {\n",
       "        text-align: right;\n",
       "    }\n",
       "</style>\n",
       "<table border=\"1\" class=\"dataframe\">\n",
       "  <thead>\n",
       "    <tr style=\"text-align: right;\">\n",
       "      <th></th>\n",
       "      <th>NAME</th>\n",
       "      <th>LOCATION</th>\n",
       "      <th>ACCOUNT_NUMBER</th>\n",
       "      <th>AGE</th>\n",
       "    </tr>\n",
       "  </thead>\n",
       "  <tbody>\n",
       "    <tr>\n",
       "      <th>3</th>\n",
       "      <td>SANDY</td>\n",
       "      <td>VUYUR</td>\n",
       "      <td>98765</td>\n",
       "      <td>19</td>\n",
       "    </tr>\n",
       "  </tbody>\n",
       "</table>\n",
       "</div>"
      ],
      "text/plain": [
       "    NAME LOCATION  ACCOUNT_NUMBER  AGE\n",
       "3  SANDY    VUYUR           98765   19"
      ]
     },
     "execution_count": 41,
     "metadata": {},
     "output_type": "execute_result"
    }
   ],
   "source": [
    "df.loc[df[\"NAME\"]==\"SANDY\"]"
   ]
  },
  {
   "cell_type": "code",
   "execution_count": 45,
   "id": "5857058d",
   "metadata": {},
   "outputs": [
    {
     "data": {
      "text/html": [
       "<div>\n",
       "<style scoped>\n",
       "    .dataframe tbody tr th:only-of-type {\n",
       "        vertical-align: middle;\n",
       "    }\n",
       "\n",
       "    .dataframe tbody tr th {\n",
       "        vertical-align: top;\n",
       "    }\n",
       "\n",
       "    .dataframe thead th {\n",
       "        text-align: right;\n",
       "    }\n",
       "</style>\n",
       "<table border=\"1\" class=\"dataframe\">\n",
       "  <thead>\n",
       "    <tr style=\"text-align: right;\">\n",
       "      <th></th>\n",
       "      <th>NAME</th>\n",
       "      <th>LOCATION</th>\n",
       "      <th>ACCOUNT_NUMBER</th>\n",
       "      <th>AGE</th>\n",
       "    </tr>\n",
       "  </thead>\n",
       "  <tbody>\n",
       "    <tr>\n",
       "      <th>5</th>\n",
       "      <td>PREM</td>\n",
       "      <td>PEDANA</td>\n",
       "      <td>44556</td>\n",
       "      <td>42</td>\n",
       "    </tr>\n",
       "  </tbody>\n",
       "</table>\n",
       "</div>"
      ],
      "text/plain": [
       "   NAME LOCATION  ACCOUNT_NUMBER  AGE\n",
       "5  PREM   PEDANA           44556   42"
      ]
     },
     "execution_count": 45,
     "metadata": {},
     "output_type": "execute_result"
    }
   ],
   "source": [
    "df.query(\"NAME =='PREM'\")"
   ]
  }
 ],
 "metadata": {
  "kernelspec": {
   "display_name": "Python 3 (ipykernel)",
   "language": "python",
   "name": "python3"
  },
  "language_info": {
   "codemirror_mode": {
    "name": "ipython",
    "version": 3
   },
   "file_extension": ".py",
   "mimetype": "text/x-python",
   "name": "python",
   "nbconvert_exporter": "python",
   "pygments_lexer": "ipython3",
   "version": "3.11.4"
  }
 },
 "nbformat": 4,
 "nbformat_minor": 5
}
